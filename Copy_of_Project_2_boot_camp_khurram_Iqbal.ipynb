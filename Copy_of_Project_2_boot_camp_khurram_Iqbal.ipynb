{
  "nbformat": 4,
  "nbformat_minor": 0,
  "metadata": {
    "colab": {
      "name": "Copy of Project 2 boot camp khurram Iqbal",
      "provenance": [],
      "authorship_tag": "ABX9TyPH6vGfP+sMB+LX7JsiXnXO",
      "include_colab_link": true
    },
    "kernelspec": {
      "name": "python3",
      "display_name": "Python 3"
    }
  },
  "cells": [
    {
      "cell_type": "markdown",
      "metadata": {
        "id": "view-in-github",
        "colab_type": "text"
      },
      "source": [
        "<a href=\"https://colab.research.google.com/github/khurram97/Boot-Camp-Data-Science/blob/main/Copy_of_Project_2_boot_camp_khurram_Iqbal.ipynb\" target=\"_parent\"><img src=\"https://colab.research.google.com/assets/colab-badge.svg\" alt=\"Open In Colab\"/></a>"
      ]
    },
    {
      "cell_type": "code",
      "metadata": {
        "id": "lA_l-f1PBbgN"
      },
      "source": [
        "#%cd drive/MyDrive/HandonTest/DataScienceProject/BootCamp/DataSets/\r\n",
        "#%ls"
      ],
      "execution_count": null,
      "outputs": []
    },
    {
      "cell_type": "code",
      "metadata": {
        "id": "ZBNm4oRbWvo1"
      },
      "source": [
        "import pandas as pd"
      ],
      "execution_count": null,
      "outputs": []
    },
    {
      "cell_type": "code",
      "metadata": {
        "id": "CNL2mHIRWyw0"
      },
      "source": [
        "#Load the data in data fram df from csv file\r\n",
        "df = pd.read_csv('/BankChurners.csv')\r\n",
        "#Print the df\r\n",
        "df"
      ],
      "execution_count": null,
      "outputs": []
    },
    {
      "cell_type": "code",
      "metadata": {
        "id": "jyGbgVWKXAaB"
      },
      "source": [
        "\r\n",
        "CLIENTNUM\tAttrition_Flag\tCustomer_Age\tGender\tDependent_count\tEducation_Level\tMarital_Status\tIncome_Category\tCard_Category\tMonths_on_book\tTotal_Relationship_Count\tMonths_Inactive_12_mon\tContacts_Count_12_mon\tCredit_Limit\tTotal_Revolving_Bal\tAvg_Open_To_Buy\tTotal_Amt_Chng_Q4_Q1\tTotal_Trans_Amt\tTotal_Trans_Ct\tTotal_Ct_Chng_Q4_Q1\tAvg_Utilization_Ratio\tNaive_Bayes_mon_1\tNaive_Bayes_mon_2\r\n",
        "0\t768805383\tNaN\t45.0\tW\t3.0\tHigh School\tMarried\tNaN\tBlue\t39.0\t5\t1\tNaN\t12691.0\t777\t11914.0\t1.335\t1144\t42\t1.625\t0.061\t0.000093\t0.999910\r\n",
        "1\t818770008\tExisting Customer\t49.0\tF\tNaN\tGraduate\tSingle\tLess than $40K\tBlue\tNaN\t6\t1\t2.0\t8256.0\t864\t7392.0\t1.541\t1291\t33\t3.714\t0.105\t0.000057\t0.999940\r\n",
        "2\t713982108\tExisting Customer\tNaN\tM\t3.0\tGraduate\tMarried\t$80K - $120K\tBlue\t36.0\t4\t1\t0.0\t3418.0\t0\t3418.0\t2.594\t1887\t20\t2.333\t0.000\t0.000021\t0.999980\r\n",
        "3\t769911858\tNaN\t40.0\tF\t4.0\tHigh School\tUnknown\tLess than $40K\tBlue\t34.0\t3\t4\t1.0\t3313.0\t2517\t796.0\t1.405\t1171\t20\t2.333\t0.760\t0.000134\t0.999870\r\n",
        "4\t709106358\tExisting Customer\t40.0\tM\t3.0\tUneducated\tMarried\t$60K - $80K\tBlue\t21.0\t5\t1\t0.0\t4716.0\t0\t4716.0\t2.175\t816\t28\t2.500\t0.000\t0.000022\t0.999980\r\n",
        "...\t...\t...\t...\t...\t...\t...\t...\t...\t...\t...\t...\t...\t...\t...\t...\t...\t...\t...\t...\t...\t...\t...\t...\r\n",
        "10122\t772366833\tExisting Customer\t50.0\tM\t2.0\tGraduate\tSingle\t$40K - $60K\tBlue\t40.0\t3\t2\t3.0\t4003.0\t1851\t2152.0\t0.703\t15476\t117\t0.857\t0.462\t0.000191\t0.999810\r\n",
        "10123\t710638233\tAttrited Customer\t41.0\tM\t2.0\tUnknown\tDivorced\t$40K - $60K\tBlue\t25.0\t4\t2\t3.0\t4277.0\t2186\t2091.0\t0.804\t8764\t69\t0.683\t0.511\t0.995270\t0.004729\r\n",
        "10124\t716506083\tAttrited Customer\t44.0\tF\t1.0\tHigh School\tMarried\tLess than $40K\tBlue\t36.0\t5\t3\t4.0\t5409.0\t0\t5409.0\t0.819\t10291\t60\t0.818\t0.000\t0.997880\t0.002118\r\n",
        "10125\t717406983\tAttrited Customer\t30.0\tM\t2.0\tGraduate\tUnknown\t$40K - $60K\tBlue\t36.0\t4\t3\t3.0\t5281.0\t0\t5281.0\t0.535\t8395\t62\t0.722\t0.000\t0.996710\t0.003294\r\n",
        "10126\t714337233\tAttrited Customer\t43.0\tF\t2.0\tGraduate\tMarried\tLess than $40K\tSilver\t25.0\t6\t2\t4.0\t10388.0\t1961\t8427.0\t0.703\t10294\t61\t0.649\t0.189\t0.996620\t0.003377\r\n",
        "10127 rows × 23 columns"
      ],
      "execution_count": null,
      "outputs": []
    },
    {
      "cell_type": "code",
      "metadata": {
        "id": "nsRoPReQXQ70"
      },
      "source": [
        "#Print the Col headings\r\n",
        "df.columns"
      ],
      "execution_count": null,
      "outputs": []
    },
    {
      "cell_type": "code",
      "metadata": {
        "id": "-T2WZdo4XZYU"
      },
      "source": [
        "NTNUM', 'Attrition_Flag', 'Customer_Age', 'Gender',\r\n",
        "       'Dependent_count', 'Education_Level', 'Marital_Status',\r\n",
        "       'Income_Category', 'Card_Category', 'Months_on_book',\r\n",
        "       'Total_Relationship_Count', 'Months_Inactive_12_mon',\r\n",
        "       'Contacts_Count_12_mon', 'Credit_Limit', 'Total_Revolving_Bal',\r\n",
        "       'Avg_Open_To_Buy', 'Total_Amt_Chng_Q4_Q1', 'Total_Trans_Amt',\r\n",
        "       'Total_Trans_Ct', 'Total_Ct_Chng_Q4_Q1', 'Avg_Utilization_Ratio',\r\n",
        "       'Naive_Bayes_mon_1', 'Naive_Bayes_mon_2'],\r\n",
        "      dtype='object')"
      ],
      "execution_count": null,
      "outputs": []
    },
    {
      "cell_type": "code",
      "metadata": {
        "id": "jGHDXJvqXkdw"
      },
      "source": [
        "NTNUM', 'Attrition_Flag', 'Customer_Age', 'Gender',\r\n",
        "       'Dependent_count', 'Education_Level', 'Marital_Status',\r\n",
        "       'Income_Category', 'Card_Category', 'Months_on_book',\r\n",
        "       'Total_Relationship_Count', 'Months_Inactive_12_mon',\r\n",
        "       'Contacts_Count_12_mon', 'Credit_Limit', 'Total_Revolving_Bal',\r\n",
        "       'Avg_Open_To_Buy', 'Total_Amt_Chng_Q4_Q1', 'Total_Trans_Amt',\r\n",
        "       'Total_Trans_Ct', 'Total_Ct_Chng_Q4_Q1', 'Avg_Utilization_Ratio',\r\n",
        "       'Naive_Bayes_mon_1', 'Naive_Bayes_mon_2'],\r\n",
        "      dtype='object')"
      ],
      "execution_count": null,
      "outputs": []
    },
    {
      "cell_type": "code",
      "metadata": {
        "id": "p7rzdED6Xxw1"
      },
      "source": [
        "class 'pandas.core.frame.DataFrame'>\r\n",
        "RangeIndex: 10127 entries, 0 to 10126\r\n",
        "Data columns (total 23 columns):\r\n",
        " #   Column                    Non-Null Count  Dtype  \r\n",
        "---  ------                    --------------  -----  \r\n",
        " 0   CLIENTNUM                 10127 non-null  int64  \r\n",
        " 1   Attrition_Flag            10125 non-null  object \r\n",
        " 2   Customer_Age              10126 non-null  float64\r\n",
        " 3   Gender                    10127 non-null  object \r\n",
        " 4   Dependent_count           10126 non-null  float64\r\n",
        " 5   Education_Level           10127 non-null  object \r\n",
        " 6   Marital_Status            10127 non-null  object \r\n",
        " 7   Income_Category           10126 non-null  object \r\n",
        " 8   Card_Category             10127 non-null  object \r\n",
        " 9   Months_on_book            10126 non-null  float64\r\n",
        " 10  Total_Relationship_Count  10127 non-null  int64  \r\n",
        " 11  Months_Inactive_12_mon    10127 non-null  int64  \r\n",
        " 12  Contacts_Count_12_mon     10126 non-null  float64\r\n",
        " 13  Credit_Limit              10127 non-null  float64\r\n",
        " 14  Total_Revolving_Bal       10127 non-null  int64  \r\n",
        " 15  Avg_Open_To_Buy           10127 non-null  float64\r\n",
        " 16  Total_Amt_Chng_Q4_Q1      10127 non-null  float64\r\n",
        " 17  Total_Trans_Amt           10127 non-null  int64  \r\n",
        " 18  Total_Trans_Ct            10127 non-null  int64  \r\n",
        " 19  Total_Ct_Chng_Q4_Q1       10127 non-null  float64\r\n",
        " 20  Avg_Utilization_Ratio     10127 non-null  float64\r\n",
        " 21  Naive_Bayes_mon_1         10127 non-null  float64\r\n",
        " 22  Naive_Bayes_mon_2         10127 non-null  float64\r\n",
        "dtypes: float64(11), int64(6), object(6)\r\n",
        "memory usage: 1.8+ MB"
      ],
      "execution_count": null,
      "outputs": []
    }
  ]
}